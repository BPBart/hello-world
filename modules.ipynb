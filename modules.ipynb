{
  "nbformat": 4,
  "nbformat_minor": 0,
  "metadata": {
    "colab": {
      "name": "modules.ipynb",
      "provenance": [],
      "collapsed_sections": [],
      "authorship_tag": "ABX9TyO1bhWB3U8ju5QMiUpc28ix",
      "include_colab_link": true
    },
    "kernelspec": {
      "name": "python3",
      "display_name": "Python 3"
    }
  },
  "cells": [
    {
      "cell_type": "markdown",
      "metadata": {
        "id": "view-in-github",
        "colab_type": "text"
      },
      "source": [
        "<a href=\"https://colab.research.google.com/github/BPBart/hello-world/blob/master/modules.ipynb\" target=\"_parent\"><img src=\"https://colab.research.google.com/assets/colab-badge.svg\" alt=\"Open In Colab\"/></a>"
      ]
    },
    {
      "cell_type": "code",
      "metadata": {
        "id": "qYWhkwiA3O7x",
        "colab_type": "code",
        "colab": {}
      },
      "source": [
        "def get_paths(directory):\n",
        "    path_list = []\n",
        "    for path, dirs, files in os.walk(directory):\n",
        "        for name in files:\n",
        "            path_list.append(os.path.join(path,name))\n",
        "    df = pd.concat(df)\n",
        "    return df"
      ],
      "execution_count": 0,
      "outputs": []
    }
  ]
}